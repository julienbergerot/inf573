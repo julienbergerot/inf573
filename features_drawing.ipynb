{
 "cells": [
  {
   "cell_type": "code",
   "execution_count": 2,
   "metadata": {},
   "outputs": [],
   "source": [
    "import matplotlib.image as mpimg \n",
    "import matplotlib.pyplot as plt \n",
    "import numpy as np\n",
    "import pickle\n",
    "import cv2\n",
    "import imutils"
   ]
  },
  {
   "cell_type": "code",
   "execution_count": 10,
   "metadata": {},
   "outputs": [],
   "source": [
    "dessin = cv2.imread('test2.png') \n",
    "dessin = imutils.resize(dessin,width=500)"
   ]
  },
  {
   "cell_type": "code",
   "execution_count": 11,
   "metadata": {},
   "outputs": [
    {
     "name": "stdout",
     "output_type": "stream",
     "text": [
      "3\n"
     ]
    }
   ],
   "source": [
    "union=np.zeros(dessin.shape[:2])\n",
    "(n,m)=union.shape\n",
    "for i in range(n):\n",
    "    for j in range(m):\n",
    "        union[i,j]=m*i+j\n",
    "\n",
    "def find_feature(father,i,j):\n",
    "    for e1 in [-1,0,1]:\n",
    "        for e2 in [-1,0,1]:\n",
    "            x=i+e1\n",
    "            y=j+e2\n",
    "            if m*x+y!=father and dessin[x,y,0]!=255. and union[x,y]==m*x+y:\n",
    "                union[x,y]=father\n",
    "                find_feature(father,x,y)\n",
    "\n",
    "nb_features=0\n",
    "for i in range(n):\n",
    "    for j in range(m):\n",
    "        if dessin[i,j,0]==255.:\n",
    "            union[i,j]=0\n",
    "        #premier pixel d'un feature\n",
    "        elif union[i,j]==m*i+j:\n",
    "            nb_features+=1\n",
    "            cv2.putText(dessin,str(m*i+j),(j,i),cv2.FONT_HERSHEY_SIMPLEX,0.4,(255,0,0),1)\n",
    "            find_feature(m*i+j,i,j)\n",
    "            \n",
    "print(nb_features)"
   ]
  },
  {
   "cell_type": "code",
   "execution_count": 12,
   "metadata": {},
   "outputs": [
    {
     "data": {
      "text/plain": [
       "-1"
      ]
     },
     "execution_count": 12,
     "metadata": {},
     "output_type": "execute_result"
    }
   ],
   "source": [
    "cv2.imshow(\"bite\",dessin)\n",
    "cv2.waitKey(0)"
   ]
  },
  {
   "cell_type": "code",
   "execution_count": null,
   "metadata": {},
   "outputs": [],
   "source": []
  }
 ],
 "metadata": {
  "kernelspec": {
   "display_name": "Python 3",
   "language": "python",
   "name": "python3"
  },
  "language_info": {
   "codemirror_mode": {
    "name": "ipython",
    "version": 3
   },
   "file_extension": ".py",
   "mimetype": "text/x-python",
   "name": "python",
   "nbconvert_exporter": "python",
   "pygments_lexer": "ipython3",
   "version": "3.7.8"
  }
 },
 "nbformat": 4,
 "nbformat_minor": 4
}
